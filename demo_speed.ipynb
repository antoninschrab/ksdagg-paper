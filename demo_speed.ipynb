{
 "cells": [
  {
   "cell_type": "markdown",
   "id": "3efd987e-0626-44bf-8d2e-a294e6afc46e",
   "metadata": {
    "tags": []
   },
   "source": [
    "# Demo"
   ]
  },
  {
   "cell_type": "code",
   "execution_count": 1,
   "id": "d5fc6658-527a-4e25-a55a-f8039b8245c3",
   "metadata": {},
   "outputs": [
    {
     "data": {
      "text/plain": [
       "StreamExecutorGpuDevice(id=0, process_index=0, slice_index=0)"
      ]
     },
     "execution_count": 1,
     "metadata": {},
     "output_type": "execute_result"
    }
   ],
   "source": [
    "import numpy as np\n",
    "from ksdagg import ksdagg, human_readable_dict # jax version\n",
    "# from ksdagg.np import ksdagg\n",
    "from jax import random\n",
    "import jax.numpy as jnp\n",
    "%load_ext autoreload\n",
    "%autoreload 2\n",
    "X = jnp.array([1, 2])\n",
    "X.device()"
   ]
  },
  {
   "cell_type": "code",
   "execution_count": 3,
   "id": "6c02d7de-c60d-431c-9ad4-9d5f53ccda62",
   "metadata": {},
   "outputs": [],
   "source": [
    "# generate data\n",
    "perturbation = 0.5\n",
    "rs = np.random.RandomState(0)\n",
    "X = rs.gamma(5 + perturbation, 5, (5000, 1))\n",
    "score_gamma = lambda x, k, theta : (k - 1) / x - 1 / theta\n",
    "score_X = score_gamma(X, 5, 5)\n",
    "X = jnp.array(X)\n",
    "score_X = jnp.array(score_X)"
   ]
  },
  {
   "cell_type": "code",
   "execution_count": 4,
   "id": "7476e4f2-495d-4fed-8ba2-82ce422c377b",
   "metadata": {},
   "outputs": [],
   "source": [
    "# compile function\n",
    "output, dictionary = ksdagg(X, score_X, return_dictionary=True)\n",
    "# Numpy version (no compilation)\n",
    "# output, dictionary = ksdagg(np.array(X), np.array(score_X), return_dictionary=True)"
   ]
  },
  {
   "cell_type": "code",
   "execution_count": 8,
   "id": "e1e6a3bb-17b4-47a2-b4dc-3c3eda714495",
   "metadata": {},
   "outputs": [],
   "source": [
    "# Now the function runs fast for any inputs X and score_X of the compiled shaped (5000, 1)\n",
    "# If the shape is changed, the function will need to be compiled again\n",
    "perturbation = 0.5\n",
    "rs = np.random.RandomState(1) # different initialisation\n",
    "X = rs.gamma(5 + perturbation, 5, (5000, 1))\n",
    "score_gamma = lambda x, k, theta : (k - 1) / x - 1 / theta\n",
    "score_X = score_gamma(X, 5, 5)\n",
    "X = jnp.array(X)\n",
    "score_X = jnp.array(score_X)\n",
    "# see Speed Comparison section .ipynb for detailed speed comparision between numpy, jax cpu and jax gpu \n",
    "%timeit output, dictionary = ksdagg(X, score_X, return_dictionary=True)"
   ]
  },
  {
   "cell_type": "code",
   "execution_count": 9,
   "id": "c290c6b0-647c-450f-a419-f3c7b90ab797",
   "metadata": {},
   "outputs": [
    {
     "name": "stdout",
     "output_type": "stream",
     "text": [
      "65.4 ms ± 271 µs per loop (mean ± std. dev. of 7 runs, 10 loops each)\n"
     ]
    }
   ],
   "source": [
    "%timeit output, dictionary = ksdagg(X, score_X, return_dictionary=True)"
   ]
  },
  {
   "cell_type": "code",
   "execution_count": 10,
   "id": "1ebd7d56-7c4c-43c5-aff6-729118e047aa",
   "metadata": {},
   "outputs": [],
   "source": [
    "output, dictionary = ksdagg(X, score_X, return_dictionary=True)"
   ]
  },
  {
   "cell_type": "code",
   "execution_count": 11,
   "id": "dc32098c-ad2d-4c06-937b-bc6d16260eb0",
   "metadata": {},
   "outputs": [
    {
     "data": {
      "text/plain": [
       "Array(1, dtype=int32)"
      ]
     },
     "execution_count": 11,
     "metadata": {},
     "output_type": "execute_result"
    }
   ],
   "source": [
    "output"
   ]
  },
  {
   "cell_type": "code",
   "execution_count": 12,
   "id": "53191027-8545-4da3-9a5e-41b27b3346bf",
   "metadata": {},
   "outputs": [
    {
     "data": {
      "text/plain": [
       "1"
      ]
     },
     "execution_count": 12,
     "metadata": {},
     "output_type": "execute_result"
    }
   ],
   "source": [
    "output.item()"
   ]
  },
  {
   "cell_type": "code",
   "execution_count": 14,
   "id": "fe8486c3-4e74-4911-a642-a0130ecfd423",
   "metadata": {},
   "outputs": [
    {
     "data": {
      "text/plain": [
       "{'KSDAgg test reject': True,\n",
       " 'Single test 1': {'Bandwidth': 1.0,\n",
       "  'KSD': 0.00012235062604304403,\n",
       "  'KSD quantile': 9.613344445824623e-05,\n",
       "  'Kernel IMQ': True,\n",
       "  'Reject': True,\n",
       "  'p-value': 0.004997501149773598,\n",
       "  'p-value threshold': 0.011993973515927792},\n",
       " 'Single test 10': {'Bandwidth': 96.67843627929688,\n",
       "  'KSD': 0.0004186165751889348,\n",
       "  'KSD quantile': 9.040639270097017e-06,\n",
       "  'Kernel IMQ': True,\n",
       "  'Reject': True,\n",
       "  'p-value': 0.0004997501382604241,\n",
       "  'p-value threshold': 0.011993973515927792},\n",
       " 'Single test 2': {'Bandwidth': 1.661851406097412,\n",
       "  'KSD': 0.00012240404612384737,\n",
       "  'KSD quantile': 4.81025199405849e-05,\n",
       "  'Kernel IMQ': True,\n",
       "  'Reject': True,\n",
       "  'p-value': 0.0004997501382604241,\n",
       "  'p-value threshold': 0.011993973515927792},\n",
       " 'Single test 3': {'Bandwidth': 2.7617499828338623,\n",
       "  'KSD': 0.00015008114860393107,\n",
       "  'KSD quantile': 2.4249460693681613e-05,\n",
       "  'Kernel IMQ': True,\n",
       "  'Reject': True,\n",
       "  'p-value': 0.0004997501382604241,\n",
       "  'p-value threshold': 0.011993973515927792},\n",
       " 'Single test 4': {'Bandwidth': 4.58961820602417,\n",
       "  'KSD': 0.00020132689678575844,\n",
       "  'KSD quantile': 1.2708222129731439e-05,\n",
       "  'Kernel IMQ': True,\n",
       "  'Reject': True,\n",
       "  'p-value': 0.0004997501382604241,\n",
       "  'p-value threshold': 0.011993973515927792},\n",
       " 'Single test 5': {'Bandwidth': 7.627263069152832,\n",
       "  'KSD': 0.00025934079894796014,\n",
       "  'KSD quantile': 8.588724995206576e-06,\n",
       "  'Kernel IMQ': True,\n",
       "  'Reject': True,\n",
       "  'p-value': 0.0004997501382604241,\n",
       "  'p-value threshold': 0.011993973515927792},\n",
       " 'Single test 6': {'Bandwidth': 12.67537784576416,\n",
       "  'KSD': 0.0003146103990729898,\n",
       "  'KSD quantile': 8.159966455423273e-06,\n",
       "  'Kernel IMQ': True,\n",
       "  'Reject': True,\n",
       "  'p-value': 0.0004997501382604241,\n",
       "  'p-value threshold': 0.011993973515927792},\n",
       " 'Single test 7': {'Bandwidth': 21.064594268798828,\n",
       "  'KSD': 0.0003602473880164325,\n",
       "  'KSD quantile': 8.52755329106003e-06,\n",
       "  'Kernel IMQ': True,\n",
       "  'Reject': True,\n",
       "  'p-value': 0.0004997501382604241,\n",
       "  'p-value threshold': 0.011993973515927792},\n",
       " 'Single test 8': {'Bandwidth': 35.0062255859375,\n",
       "  'KSD': 0.0003918806032743305,\n",
       "  'KSD quantile': 8.78592072695028e-06,\n",
       "  'Kernel IMQ': True,\n",
       "  'Reject': True,\n",
       "  'p-value': 0.0004997501382604241,\n",
       "  'p-value threshold': 0.011993973515927792},\n",
       " 'Single test 9': {'Bandwidth': 58.175140380859375,\n",
       "  'KSD': 0.00040996441384777427,\n",
       "  'KSD quantile': 8.954608347266912e-06,\n",
       "  'Kernel IMQ': True,\n",
       "  'Reject': True,\n",
       "  'p-value': 0.0004997501382604241,\n",
       "  'p-value threshold': 0.011993973515927792}}"
      ]
     },
     "execution_count": 14,
     "metadata": {},
     "output_type": "execute_result"
    }
   ],
   "source": [
    "human_readable_dict(dictionary) # use to convert jax arrays to scalars\n",
    "dictionary"
   ]
  },
  {
   "cell_type": "markdown",
   "id": "0cd15687-8197-42f7-a6fb-683850fdf198",
   "metadata": {
    "tags": []
   },
   "source": [
    "# Speed comparison"
   ]
  },
  {
   "cell_type": "markdown",
   "id": "02919422-ca76-40ec-a2dc-fc2faa0270f8",
   "metadata": {
    "tags": []
   },
   "source": [
    "## Imports"
   ]
  },
  {
   "cell_type": "markdown",
   "id": "44870f4b-5f30-4621-a4ab-6c0160f37ed6",
   "metadata": {},
   "source": [
    "Run only one of three next cells depending on whether to use Numpy CPU, Jax CPU or Jax GPU.\n",
    "\n",
    "The CPU used is a AMD Ryzen Threadripper 3960X 24 Cores 128Gb RAM at 3.8GHz.\n",
    "\n",
    "The GPU used is an NVIDIA RTX A5000 24Gb."
   ]
  },
  {
   "cell_type": "code",
   "execution_count": 1,
   "id": "5c1598ae-bada-4d83-a29a-c88cfc18b189",
   "metadata": {},
   "outputs": [],
   "source": [
    "# run for Numpy CPU\n",
    "import numpy as np\n",
    "from ksdagg.np import ksdagg\n",
    "from jax import random\n",
    "import jax.numpy as jnp\n",
    "%load_ext autoreload\n",
    "%autoreload 2"
   ]
  },
  {
   "cell_type": "code",
   "execution_count": 1,
   "id": "df1a4636-78b3-4bc0-be50-778c60c093ea",
   "metadata": {},
   "outputs": [
    {
     "name": "stderr",
     "output_type": "stream",
     "text": [
      "2023-02-09 18:42:13.293411: E external/org_tensorflow/tensorflow/compiler/xla/stream_executor/cuda/cuda_driver.cc:266] failed call to cuInit: CUDA_ERROR_NO_DEVICE: no CUDA-capable device is detected\n",
      "No GPU/TPU found, falling back to CPU. (Set TF_CPP_MIN_LOG_LEVEL=0 and rerun for more info.)\n"
     ]
    },
    {
     "data": {
      "text/plain": [
       "CpuDevice(id=0)"
      ]
     },
     "execution_count": 1,
     "metadata": {},
     "output_type": "execute_result"
    }
   ],
   "source": [
    "# run for Jax CPU\n",
    "import os\n",
    "os.environ['CUDA_VISIBLE_DEVICES'] = ''\n",
    "import numpy as np\n",
    "from ksdagg.jax import ksdagg\n",
    "from jax import random\n",
    "import jax.numpy as jnp\n",
    "%load_ext autoreload\n",
    "%autoreload 2\n",
    "X = jnp.array([1, 2])\n",
    "X.device()"
   ]
  },
  {
   "cell_type": "code",
   "execution_count": 1,
   "id": "2a17e174-747c-4249-a950-75442de4fcc8",
   "metadata": {},
   "outputs": [
    {
     "data": {
      "text/plain": [
       "StreamExecutorGpuDevice(id=0, process_index=0, slice_index=0)"
      ]
     },
     "execution_count": 1,
     "metadata": {},
     "output_type": "execute_result"
    }
   ],
   "source": [
    "# run for Jax GPU\n",
    "import numpy as np\n",
    "from ksdagg.jax import ksdagg\n",
    "from jax import random\n",
    "import jax.numpy as jnp\n",
    "%load_ext autoreload\n",
    "%autoreload 2\n",
    "X = jnp.array([1, 2])\n",
    "X.device()"
   ]
  },
  {
   "cell_type": "markdown",
   "id": "b7196270-ef91-4582-a51e-db768a31ad80",
   "metadata": {
    "tags": []
   },
   "source": [
    "## KSDAgg runtimes"
   ]
  },
  {
   "cell_type": "code",
   "execution_count": 5,
   "id": "70124d35-ca67-49cb-8ff4-898af928559b",
   "metadata": {},
   "outputs": [],
   "source": [
    "perturbation = 0.5\n",
    "rs = np.random.RandomState(0)\n",
    "X = rs.gamma(5 + perturbation, 5, (5000, 1))\n",
    "score_gamma = lambda x, k, theta : (k - 1) / x - 1 / theta\n",
    "score_X = score_gamma(X, 5, 5)\n",
    "X = jnp.array(X)\n",
    "score_X = jnp.array(score_X)"
   ]
  },
  {
   "cell_type": "code",
   "execution_count": 3,
   "id": "493d27fe-55c3-4e4b-9d4c-1bfff7dcbb08",
   "metadata": {},
   "outputs": [],
   "source": [
    "# run for Jax CPU and Jax GPU to compile the function\n",
    "# Do not run for Numpy CPU\n",
    "output, dictionary = ksdagg(X, score_X, return_dictionary=True)"
   ]
  },
  {
   "cell_type": "code",
   "execution_count": 7,
   "id": "b00fef59-d625-4be8-bff3-cc2d52ec3bcd",
   "metadata": {},
   "outputs": [
    {
     "name": "stdout",
     "output_type": "stream",
     "text": [
      "12.5 s ± 40.5 ms per loop (mean ± std. dev. of 7 runs, 1 loop each)\n"
     ]
    }
   ],
   "source": [
    "# Numpy CPU\n",
    "%timeit ksdagg(np.array(X), np.array(score_X), return_dictionary=True) "
   ]
  },
  {
   "cell_type": "code",
   "execution_count": 4,
   "id": "c891cc7d-8f17-4d4a-9bf5-412cb9330c2d",
   "metadata": {},
   "outputs": [
    {
     "name": "stdout",
     "output_type": "stream",
     "text": [
      "1.47 s ± 11.7 ms per loop (mean ± std. dev. of 7 runs, 1 loop each)\n"
     ]
    }
   ],
   "source": [
    "# Jax CPU\n",
    "%timeit ksdagg(X, score_X, return_dictionary=True)"
   ]
  },
  {
   "cell_type": "code",
   "execution_count": 4,
   "id": "d128e665-45a9-4130-bf22-27edaa483bd3",
   "metadata": {},
   "outputs": [
    {
     "name": "stdout",
     "output_type": "stream",
     "text": [
      "21.5 ms ± 33.7 µs per loop (mean ± std. dev. of 7 runs, 10 loops each)\n"
     ]
    }
   ],
   "source": [
    "# Jax GPU\n",
    "%timeit ksdagg(X, score_X, return_dictionary=True) "
   ]
  }
 ],
 "metadata": {
  "kernelspec": {
   "display_name": "Python 3 (ipykernel)",
   "language": "python",
   "name": "python3"
  },
  "language_info": {
   "codemirror_mode": {
    "name": "ipython",
    "version": 3
   },
   "file_extension": ".py",
   "mimetype": "text/x-python",
   "name": "python",
   "nbconvert_exporter": "python",
   "pygments_lexer": "ipython3",
   "version": "3.9.16"
  }
 },
 "nbformat": 4,
 "nbformat_minor": 5
}
